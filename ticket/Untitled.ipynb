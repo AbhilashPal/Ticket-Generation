{
 "cells": [
  {
   "cell_type": "code",
   "execution_count": 20,
   "metadata": {},
   "outputs": [],
   "source": [
    "import pandas as pd \n"
   ]
  },
  {
   "cell_type": "code",
   "execution_count": 21,
   "metadata": {},
   "outputs": [],
   "source": [
    "df = pd.read_csv(\"Inception.csv\")"
   ]
  },
  {
   "cell_type": "code",
   "execution_count": 22,
   "metadata": {},
   "outputs": [
    {
     "data": {
      "text/html": [
       "<div>\n",
       "<style scoped>\n",
       "    .dataframe tbody tr th:only-of-type {\n",
       "        vertical-align: middle;\n",
       "    }\n",
       "\n",
       "    .dataframe tbody tr th {\n",
       "        vertical-align: top;\n",
       "    }\n",
       "\n",
       "    .dataframe thead th {\n",
       "        text-align: right;\n",
       "    }\n",
       "</style>\n",
       "<table border=\"1\" class=\"dataframe\">\n",
       "  <thead>\n",
       "    <tr style=\"text-align: right;\">\n",
       "      <th></th>\n",
       "      <th>Timestamp</th>\n",
       "      <th>n</th>\n",
       "      <th>r</th>\n",
       "      <th>Will you be attending the IBM Cryptobit Workshop?</th>\n",
       "      <th>Which one of these workshop will you be attending?</th>\n",
       "      <th>Are you inclined towards IBM winter training program?</th>\n",
       "      <th>Which Year are you in?</th>\n",
       "      <th>Which Branch do you belong to?</th>\n",
       "      <th>What's your official email address?</th>\n",
       "      <th>What's your personal email address?</th>\n",
       "      <th>What's your WhatsApp number?</th>\n",
       "      <th>What's your calling number?</th>\n",
       "      <th>Which domain will you be joining if given a chance to join Gen-Y ?</th>\n",
       "      <th>Unnamed: 13</th>\n",
       "    </tr>\n",
       "  </thead>\n",
       "  <tbody>\n",
       "    <tr>\n",
       "      <th>220</th>\n",
       "      <td>2018/10/04 7:44:12 PM GMT+5:30</td>\n",
       "      <td>Sukkrit Sharma</td>\n",
       "      <td>RA1711003010186</td>\n",
       "      <td>NaN</td>\n",
       "      <td>Python and its AI Applications</td>\n",
       "      <td>5.0</td>\n",
       "      <td>2nd Year</td>\n",
       "      <td>CSE</td>\n",
       "      <td>sukkrit_sharma@srmuniv.edu.in</td>\n",
       "      <td>sukkritsharma@gmail.com</td>\n",
       "      <td>8.754423e+09</td>\n",
       "      <td>8.754423e+09</td>\n",
       "      <td>Data Science &amp; Machine Learning</td>\n",
       "      <td>NaN</td>\n",
       "    </tr>\n",
       "    <tr>\n",
       "      <th>221</th>\n",
       "      <td>2018/10/04 7:46:01 PM GMT+5:30</td>\n",
       "      <td>Himanshu Singh</td>\n",
       "      <td>RA1711020010161</td>\n",
       "      <td>IBM Blockchain Workshop</td>\n",
       "      <td>Kickstart to Android Development</td>\n",
       "      <td>1.0</td>\n",
       "      <td>2nd Year</td>\n",
       "      <td>SWE</td>\n",
       "      <td>canteranonymous@gmail.com</td>\n",
       "      <td>himanshusinghrajput829@gmail.com</td>\n",
       "      <td>9.033707e+09</td>\n",
       "      <td>9.033707e+09</td>\n",
       "      <td>Web Development</td>\n",
       "      <td>NaN</td>\n",
       "    </tr>\n",
       "    <tr>\n",
       "      <th>222</th>\n",
       "      <td>2018/10/04 7:46:57 PM GMT+5:30</td>\n",
       "      <td>Somesh Dave</td>\n",
       "      <td>RA1711020010087</td>\n",
       "      <td>IBM Blockchain Workshop</td>\n",
       "      <td>Kickstart to Android Development</td>\n",
       "      <td>5.0</td>\n",
       "      <td>2nd Year</td>\n",
       "      <td>Software Engineering</td>\n",
       "      <td>somesh_dave@srmuniv.edu.in</td>\n",
       "      <td>mr.someshdave@gmail.com</td>\n",
       "      <td>8.013099e+09</td>\n",
       "      <td>8.013099e+09</td>\n",
       "      <td>Android Development</td>\n",
       "      <td>NaN</td>\n",
       "    </tr>\n",
       "    <tr>\n",
       "      <th>223</th>\n",
       "      <td>2018/10/04 8:01:18 PM GMT+5:30</td>\n",
       "      <td>Tushar Sharma</td>\n",
       "      <td>RA1711003010384</td>\n",
       "      <td>IBM Blockchain Workshop</td>\n",
       "      <td>Kickstart to Android Development</td>\n",
       "      <td>5.0</td>\n",
       "      <td>2nd Year</td>\n",
       "      <td>CSE</td>\n",
       "      <td>tusharsharma1999@gmail.com</td>\n",
       "      <td>tusharsharma1999@gmail.com</td>\n",
       "      <td>9.756058e+09</td>\n",
       "      <td>9.756058e+09</td>\n",
       "      <td>Android Development</td>\n",
       "      <td>NaN</td>\n",
       "    </tr>\n",
       "    <tr>\n",
       "      <th>224</th>\n",
       "      <td>2018/10/04 8:07:12 PM GMT+5:30</td>\n",
       "      <td>V Kowshik Varma</td>\n",
       "      <td>RA1611003011283</td>\n",
       "      <td>IBM Blockchain Workshop</td>\n",
       "      <td>Kickstart to Android Development</td>\n",
       "      <td>5.0</td>\n",
       "      <td>3rd Year</td>\n",
       "      <td>CSE</td>\n",
       "      <td>koushikvarma1998@gmail.com</td>\n",
       "      <td>koushikvarma1998@gmail.com</td>\n",
       "      <td>8.608080e+09</td>\n",
       "      <td>8.608080e+09</td>\n",
       "      <td>Android Development</td>\n",
       "      <td>NaN</td>\n",
       "    </tr>\n",
       "  </tbody>\n",
       "</table>\n",
       "</div>"
      ],
      "text/plain": [
       "                          Timestamp                n                 r  \\\n",
       "220  2018/10/04 7:44:12 PM GMT+5:30   Sukkrit Sharma   RA1711003010186   \n",
       "221  2018/10/04 7:46:01 PM GMT+5:30   Himanshu Singh  RA1711020010161    \n",
       "222  2018/10/04 7:46:57 PM GMT+5:30      Somesh Dave   RA1711020010087   \n",
       "223  2018/10/04 8:01:18 PM GMT+5:30    Tushar Sharma   RA1711003010384   \n",
       "224  2018/10/04 8:07:12 PM GMT+5:30  V Kowshik Varma   RA1611003011283   \n",
       "\n",
       "    Will you be attending the IBM Cryptobit Workshop?   \\\n",
       "220                                                NaN   \n",
       "221                            IBM Blockchain Workshop   \n",
       "222                            IBM Blockchain Workshop   \n",
       "223                            IBM Blockchain Workshop   \n",
       "224                            IBM Blockchain Workshop   \n",
       "\n",
       "    Which one of these workshop will you be attending?  \\\n",
       "220                     Python and its AI Applications   \n",
       "221                   Kickstart to Android Development   \n",
       "222                   Kickstart to Android Development   \n",
       "223                   Kickstart to Android Development   \n",
       "224                   Kickstart to Android Development   \n",
       "\n",
       "     Are you inclined towards IBM winter training program?  \\\n",
       "220                                                5.0       \n",
       "221                                                1.0       \n",
       "222                                                5.0       \n",
       "223                                                5.0       \n",
       "224                                                5.0       \n",
       "\n",
       "    Which Year are you in? Which Branch do you belong to?  \\\n",
       "220               2nd Year                            CSE   \n",
       "221               2nd Year                            SWE   \n",
       "222               2nd Year           Software Engineering   \n",
       "223               2nd Year                            CSE   \n",
       "224               3rd Year                            CSE   \n",
       "\n",
       "    What's your official email address? What's your personal email address?  \\\n",
       "220       sukkrit_sharma@srmuniv.edu.in             sukkritsharma@gmail.com   \n",
       "221           canteranonymous@gmail.com    himanshusinghrajput829@gmail.com   \n",
       "222          somesh_dave@srmuniv.edu.in             mr.someshdave@gmail.com   \n",
       "223          tusharsharma1999@gmail.com          tusharsharma1999@gmail.com   \n",
       "224          koushikvarma1998@gmail.com          koushikvarma1998@gmail.com   \n",
       "\n",
       "     What's your WhatsApp number?  What's your calling number?  \\\n",
       "220                  8.754423e+09                 8.754423e+09   \n",
       "221                  9.033707e+09                 9.033707e+09   \n",
       "222                  8.013099e+09                 8.013099e+09   \n",
       "223                  9.756058e+09                 9.756058e+09   \n",
       "224                  8.608080e+09                 8.608080e+09   \n",
       "\n",
       "    Which domain will you be joining if given a chance to join Gen-Y ?  \\\n",
       "220                    Data Science & Machine Learning                   \n",
       "221                                    Web Development                   \n",
       "222                                Android Development                   \n",
       "223                                Android Development                   \n",
       "224                                Android Development                   \n",
       "\n",
       "    Unnamed: 13  \n",
       "220         NaN  \n",
       "221         NaN  \n",
       "222         NaN  \n",
       "223         NaN  \n",
       "224         NaN  "
      ]
     },
     "execution_count": 22,
     "metadata": {},
     "output_type": "execute_result"
    }
   ],
   "source": [
    "df.tail()"
   ]
  },
  {
   "cell_type": "code",
   "execution_count": 7,
   "metadata": {},
   "outputs": [],
   "source": [
    "namelist = df['n'].tolist()\n",
    "reglist = df['r'].tolist()"
   ]
  },
  {
   "cell_type": "code",
   "execution_count": 4,
   "metadata": {},
   "outputs": [],
   "source": [
    "import cv2\n",
    "\n",
    "i = cv2.imread('scam.png')"
   ]
  },
  {
   "cell_type": "code",
   "execution_count": 13,
   "metadata": {},
   "outputs": [],
   "source": [
    "h,w = i.shape[0:2]"
   ]
  },
  {
   "cell_type": "code",
   "execution_count": 16,
   "metadata": {},
   "outputs": [
    {
     "data": {
      "text/plain": [
       "264"
      ]
     },
     "execution_count": 16,
     "metadata": {},
     "output_type": "execute_result"
    }
   ],
   "source": [
    "h\n"
   ]
  },
  {
   "cell_type": "code",
   "execution_count": 17,
   "metadata": {},
   "outputs": [
    {
     "data": {
      "text/plain": [
       "816"
      ]
     },
     "execution_count": 17,
     "metadata": {},
     "output_type": "execute_result"
    }
   ],
   "source": [
    "w"
   ]
  },
  {
   "cell_type": "code",
   "execution_count": 18,
   "metadata": {},
   "outputs": [
    {
     "data": {
      "text/plain": [
       "(264, 816, 3)"
      ]
     },
     "execution_count": 18,
     "metadata": {},
     "output_type": "execute_result"
    }
   ],
   "source": [
    "i.shape"
   ]
  },
  {
   "cell_type": "code",
   "execution_count": null,
   "metadata": {},
   "outputs": [],
   "source": []
  }
 ],
 "metadata": {
  "kernelspec": {
   "display_name": "Python 3",
   "language": "python",
   "name": "python3"
  },
  "language_info": {
   "codemirror_mode": {
    "name": "ipython",
    "version": 3
   },
   "file_extension": ".py",
   "mimetype": "text/x-python",
   "name": "python",
   "nbconvert_exporter": "python",
   "pygments_lexer": "ipython3",
   "version": "3.5.0"
  }
 },
 "nbformat": 4,
 "nbformat_minor": 2
}
